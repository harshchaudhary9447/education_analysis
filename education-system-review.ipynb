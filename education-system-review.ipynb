{
 "cells": [
  {
   "cell_type": "code",
   "execution_count": 1,
   "id": "6c9425fc",
   "metadata": {
    "_cell_guid": "b1076dfc-b9ad-4769-8c92-a6c4dae69d19",
    "_uuid": "8f2839f25d086af736a60e9eeb907d3b93b6e0e5",
    "execution": {
     "iopub.execute_input": "2024-09-28T06:45:45.343314Z",
     "iopub.status.busy": "2024-09-28T06:45:45.342747Z",
     "iopub.status.idle": "2024-09-28T06:45:45.365481Z",
     "shell.execute_reply": "2024-09-28T06:45:45.364067Z"
    },
    "papermill": {
     "duration": 0.04814,
     "end_time": "2024-09-28T06:45:45.369190",
     "exception": false,
     "start_time": "2024-09-28T06:45:45.321050",
     "status": "completed"
    },
    "tags": []
   },
   "outputs": [
    {
     "name": "stdout",
     "output_type": "stream",
     "text": [
      "/kaggle/input/online-education-system-review/ONLINE EDUCATION SYSTEM REVIEW.csv\n"
     ]
    }
   ],
   "source": [
    "# This Python 3 environment comes with many helpful analytics libraries installed\n",
    "# It is defined by the kaggle/python Docker image: https://github.com/kaggle/docker-python\n",
    "# For example, here's several helpful packages to load\n",
    "\n",
    "import numpy as np # linear algebra\n",
    "import pandas as pd # data processing, CSV file I/O (e.g. pd.read_csv)\n",
    "\n",
    "# Input data files are available in the read-only \"../input/\" directory\n",
    "# For example, running this (by clicking run or pressing Shift+Enter) will list all files under the input directory\n",
    "\n",
    "import os\n",
    "for dirname, _, filenames in os.walk('/kaggle/input'):\n",
    "    for filename in filenames:\n",
    "        print(os.path.join(dirname, filename))\n",
    "\n",
    "# You can write up to 20GB to the current directory (/kaggle/working/) that gets preserved as output when you create a version using \"Save & Run All\" \n",
    "# You can also write temporary files to /kaggle/temp/, but they won't be saved outside of the current session"
   ]
  },
  {
   "cell_type": "markdown",
   "id": "c711869c",
   "metadata": {
    "papermill": {
     "duration": 0.021179,
     "end_time": "2024-09-28T06:45:45.410159",
     "exception": false,
     "start_time": "2024-09-28T06:45:45.388980",
     "status": "completed"
    },
    "tags": []
   },
   "source": [
    "### Importing Necessary Libraries"
   ]
  },
  {
   "cell_type": "code",
   "execution_count": 2,
   "id": "2748bd67",
   "metadata": {
    "execution": {
     "iopub.execute_input": "2024-09-28T06:45:45.448091Z",
     "iopub.status.busy": "2024-09-28T06:45:45.447603Z",
     "iopub.status.idle": "2024-09-28T06:45:46.821296Z",
     "shell.execute_reply": "2024-09-28T06:45:46.819158Z"
    },
    "papermill": {
     "duration": 1.398816,
     "end_time": "2024-09-28T06:45:46.827017",
     "exception": false,
     "start_time": "2024-09-28T06:45:45.428201",
     "status": "completed"
    },
    "tags": []
   },
   "outputs": [],
   "source": [
    "import numpy as np  # this library for  Mathematical operations\n",
    "import pandas as pd   # this library for data manipulation and data analysis\n",
    "import matplotlib.pyplot as plt # this library for data visualization\n",
    "import seaborn as sns\n",
    "import random\n",
    "import warnings\n",
    "warnings.filterwarnings(\"ignore\")"
   ]
  },
  {
   "cell_type": "markdown",
   "id": "8779416a",
   "metadata": {
    "papermill": {
     "duration": 0.024492,
     "end_time": "2024-09-28T06:45:46.876037",
     "exception": false,
     "start_time": "2024-09-28T06:45:46.851545",
     "status": "completed"
    },
    "tags": []
   },
   "source": [
    "### Read Dataset"
   ]
  },
  {
   "cell_type": "code",
   "execution_count": 3,
   "id": "1ac942af",
   "metadata": {
    "execution": {
     "iopub.execute_input": "2024-09-28T06:45:46.915895Z",
     "iopub.status.busy": "2024-09-28T06:45:46.915415Z",
     "iopub.status.idle": "2024-09-28T06:45:46.938084Z",
     "shell.execute_reply": "2024-09-28T06:45:46.936697Z"
    },
    "papermill": {
     "duration": 0.045833,
     "end_time": "2024-09-28T06:45:46.941284",
     "exception": false,
     "start_time": "2024-09-28T06:45:46.895451",
     "status": "completed"
    },
    "tags": []
   },
   "outputs": [],
   "source": [
    "# read the dataset\n",
    "\n",
    "harsh=pd.read_csv('/kaggle/input/online-education-system-review/ONLINE EDUCATION SYSTEM REVIEW.csv')"
   ]
  },
  {
   "cell_type": "code",
   "execution_count": 4,
   "id": "4c31c6c4",
   "metadata": {
    "execution": {
     "iopub.execute_input": "2024-09-28T06:45:46.980755Z",
     "iopub.status.busy": "2024-09-28T06:45:46.980272Z",
     "iopub.status.idle": "2024-09-28T06:45:47.031089Z",
     "shell.execute_reply": "2024-09-28T06:45:47.029731Z"
    },
    "papermill": {
     "duration": 0.074447,
     "end_time": "2024-09-28T06:45:47.034318",
     "exception": false,
     "start_time": "2024-09-28T06:45:46.959871",
     "status": "completed"
    },
    "tags": []
   },
   "outputs": [
    {
     "data": {
      "text/html": [
       "<div>\n",
       "<style scoped>\n",
       "    .dataframe tbody tr th:only-of-type {\n",
       "        vertical-align: middle;\n",
       "    }\n",
       "\n",
       "    .dataframe tbody tr th {\n",
       "        vertical-align: top;\n",
       "    }\n",
       "\n",
       "    .dataframe thead th {\n",
       "        text-align: right;\n",
       "    }\n",
       "</style>\n",
       "<table border=\"1\" class=\"dataframe\">\n",
       "  <thead>\n",
       "    <tr style=\"text-align: right;\">\n",
       "      <th></th>\n",
       "      <th>Gender</th>\n",
       "      <th>Home Location</th>\n",
       "      <th>Level of Education</th>\n",
       "      <th>Age(Years)</th>\n",
       "      <th>Number of Subjects</th>\n",
       "      <th>Device type used to attend classes</th>\n",
       "      <th>Economic status</th>\n",
       "      <th>Family size</th>\n",
       "      <th>Internet facility in your locality</th>\n",
       "      <th>Are you involved in any sports?</th>\n",
       "      <th>...</th>\n",
       "      <th>Time spent on social media (Hours)</th>\n",
       "      <th>Interested in Gaming?</th>\n",
       "      <th>Have separate room for studying?</th>\n",
       "      <th>Engaged in group studies?</th>\n",
       "      <th>Average marks scored before pandemic in traditional classroom</th>\n",
       "      <th>Your interaction in online mode</th>\n",
       "      <th>Clearing doubts with faculties in online mode</th>\n",
       "      <th>Interested in?</th>\n",
       "      <th>Performance in online</th>\n",
       "      <th>Your level of satisfaction in Online Education</th>\n",
       "    </tr>\n",
       "  </thead>\n",
       "  <tbody>\n",
       "    <tr>\n",
       "      <th>0</th>\n",
       "      <td>Male</td>\n",
       "      <td>Urban</td>\n",
       "      <td>Under Graduate</td>\n",
       "      <td>18</td>\n",
       "      <td>11</td>\n",
       "      <td>Laptop</td>\n",
       "      <td>Middle Class</td>\n",
       "      <td>4</td>\n",
       "      <td>5</td>\n",
       "      <td>No</td>\n",
       "      <td>...</td>\n",
       "      <td>1</td>\n",
       "      <td>No</td>\n",
       "      <td>No</td>\n",
       "      <td>No</td>\n",
       "      <td>91-100</td>\n",
       "      <td>1</td>\n",
       "      <td>1</td>\n",
       "      <td>Practical</td>\n",
       "      <td>6</td>\n",
       "      <td>Average</td>\n",
       "    </tr>\n",
       "    <tr>\n",
       "      <th>1</th>\n",
       "      <td>Male</td>\n",
       "      <td>Urban</td>\n",
       "      <td>Under Graduate</td>\n",
       "      <td>19</td>\n",
       "      <td>7</td>\n",
       "      <td>Laptop</td>\n",
       "      <td>Middle Class</td>\n",
       "      <td>4</td>\n",
       "      <td>1</td>\n",
       "      <td>Yes</td>\n",
       "      <td>...</td>\n",
       "      <td>1</td>\n",
       "      <td>Yes</td>\n",
       "      <td>Yes</td>\n",
       "      <td>No</td>\n",
       "      <td>91-100</td>\n",
       "      <td>1</td>\n",
       "      <td>1</td>\n",
       "      <td>Theory</td>\n",
       "      <td>3</td>\n",
       "      <td>Bad</td>\n",
       "    </tr>\n",
       "    <tr>\n",
       "      <th>2</th>\n",
       "      <td>Male</td>\n",
       "      <td>Rural</td>\n",
       "      <td>Under Graduate</td>\n",
       "      <td>18</td>\n",
       "      <td>5</td>\n",
       "      <td>Laptop</td>\n",
       "      <td>Middle Class</td>\n",
       "      <td>5</td>\n",
       "      <td>2</td>\n",
       "      <td>No</td>\n",
       "      <td>...</td>\n",
       "      <td>1</td>\n",
       "      <td>No</td>\n",
       "      <td>Yes</td>\n",
       "      <td>No</td>\n",
       "      <td>71-80</td>\n",
       "      <td>1</td>\n",
       "      <td>1</td>\n",
       "      <td>Both</td>\n",
       "      <td>6</td>\n",
       "      <td>Bad</td>\n",
       "    </tr>\n",
       "    <tr>\n",
       "      <th>3</th>\n",
       "      <td>Male</td>\n",
       "      <td>Urban</td>\n",
       "      <td>Under Graduate</td>\n",
       "      <td>18</td>\n",
       "      <td>5</td>\n",
       "      <td>Laptop</td>\n",
       "      <td>Middle Class</td>\n",
       "      <td>4</td>\n",
       "      <td>4</td>\n",
       "      <td>Yes</td>\n",
       "      <td>...</td>\n",
       "      <td>2</td>\n",
       "      <td>No</td>\n",
       "      <td>No</td>\n",
       "      <td>yes</td>\n",
       "      <td>91-100</td>\n",
       "      <td>1</td>\n",
       "      <td>2</td>\n",
       "      <td>Theory</td>\n",
       "      <td>4</td>\n",
       "      <td>Bad</td>\n",
       "    </tr>\n",
       "    <tr>\n",
       "      <th>4</th>\n",
       "      <td>Male</td>\n",
       "      <td>Rural</td>\n",
       "      <td>Under Graduate</td>\n",
       "      <td>18</td>\n",
       "      <td>5</td>\n",
       "      <td>Laptop</td>\n",
       "      <td>Middle Class</td>\n",
       "      <td>4</td>\n",
       "      <td>3</td>\n",
       "      <td>No</td>\n",
       "      <td>...</td>\n",
       "      <td>2</td>\n",
       "      <td>Yes</td>\n",
       "      <td>Yes</td>\n",
       "      <td>yes</td>\n",
       "      <td>81-90</td>\n",
       "      <td>3</td>\n",
       "      <td>3</td>\n",
       "      <td>Both</td>\n",
       "      <td>6</td>\n",
       "      <td>Average</td>\n",
       "    </tr>\n",
       "  </tbody>\n",
       "</table>\n",
       "<p>5 rows × 23 columns</p>\n",
       "</div>"
      ],
      "text/plain": [
       "  Gender Home Location Level of Education  Age(Years)  Number of Subjects  \\\n",
       "0   Male         Urban     Under Graduate          18                  11   \n",
       "1   Male         Urban     Under Graduate          19                   7   \n",
       "2   Male         Rural     Under Graduate          18                   5   \n",
       "3   Male         Urban     Under Graduate          18                   5   \n",
       "4   Male         Rural     Under Graduate          18                   5   \n",
       "\n",
       "  Device type used to attend classes Economic status  Family size  \\\n",
       "0                             Laptop    Middle Class            4   \n",
       "1                             Laptop    Middle Class            4   \n",
       "2                             Laptop    Middle Class            5   \n",
       "3                             Laptop    Middle Class            4   \n",
       "4                             Laptop    Middle Class            4   \n",
       "\n",
       "   Internet facility in your locality Are you involved in any sports?  ...  \\\n",
       "0                                   5                              No  ...   \n",
       "1                                   1                             Yes  ...   \n",
       "2                                   2                              No  ...   \n",
       "3                                   4                             Yes  ...   \n",
       "4                                   3                              No  ...   \n",
       "\n",
       "  Time spent on social media (Hours)  Interested in Gaming?  \\\n",
       "0                                  1                     No   \n",
       "1                                  1                    Yes   \n",
       "2                                  1                     No   \n",
       "3                                  2                     No   \n",
       "4                                  2                    Yes   \n",
       "\n",
       "   Have separate room for studying?  Engaged in group studies?  \\\n",
       "0                                No                         No   \n",
       "1                               Yes                         No   \n",
       "2                               Yes                         No   \n",
       "3                                No                        yes   \n",
       "4                               Yes                        yes   \n",
       "\n",
       "  Average marks scored before pandemic in traditional classroom  \\\n",
       "0                                             91-100              \n",
       "1                                             91-100              \n",
       "2                                              71-80              \n",
       "3                                             91-100              \n",
       "4                                              81-90              \n",
       "\n",
       "  Your interaction in online mode  \\\n",
       "0                               1   \n",
       "1                               1   \n",
       "2                               1   \n",
       "3                               1   \n",
       "4                               3   \n",
       "\n",
       "  Clearing doubts with faculties in online mode Interested in?  \\\n",
       "0                                             1      Practical   \n",
       "1                                             1         Theory   \n",
       "2                                             1           Both   \n",
       "3                                             2         Theory   \n",
       "4                                             3           Both   \n",
       "\n",
       "   Performance in online  Your level of satisfaction in Online Education  \n",
       "0                      6                                         Average  \n",
       "1                      3                                             Bad  \n",
       "2                      6                                             Bad  \n",
       "3                      4                                             Bad  \n",
       "4                      6                                         Average  \n",
       "\n",
       "[5 rows x 23 columns]"
      ]
     },
     "execution_count": 4,
     "metadata": {},
     "output_type": "execute_result"
    }
   ],
   "source": [
    "# checking 1st rows of Dataset\n",
    "\n",
    "harsh.head()"
   ]
  },
  {
   "cell_type": "markdown",
   "id": "551a9bd3",
   "metadata": {
    "papermill": {
     "duration": 0.018912,
     "end_time": "2024-09-28T06:45:47.071636",
     "exception": false,
     "start_time": "2024-09-28T06:45:47.052724",
     "status": "completed"
    },
    "tags": []
   },
   "source": [
    "### Lets check what the columns mentioned in the dataset says"
   ]
  },
  {
   "cell_type": "markdown",
   "id": "3f999261",
   "metadata": {
    "papermill": {
     "duration": 0.018018,
     "end_time": "2024-09-28T06:45:47.109020",
     "exception": false,
     "start_time": "2024-09-28T06:45:47.091002",
     "status": "completed"
    },
    "tags": []
   },
   "source": [
    "* 1.Gender – Male, Female.\n",
    "* 2.Home Location – Rural, Urban\n",
    "* 3.Level of Education – Post Graduate, School, Under Graduate\n",
    "* 4.Age – Years\n",
    "* 5.Number of Subjects – 1- 20\n",
    "* 6.Device type used to attend classes – Desktop, Laptop, Mobile\n",
    "* 7.Economic status – Middle Class, Poor, Rich\n",
    "* 8.Family size – 1 -10\n",
    "* 9.Internet facility in your locality – Number scale (Very Bad to Very Good)\n",
    "* 10.Are you involved in any sports? – Yes, No\n",
    "* 11.Do elderly people monitor you? – Yes, No\n",
    "* 12.Study time – Hours\n",
    "* 13.Sleep time – Hours\n",
    "* 14.Time spent on social media – Hours\n",
    "* 15.Interested in Gaming? – Yes, No\n",
    "* 16.Have separate room for studying? – Yes, No\n",
    "* 17.Engaged in group studies? – Yes, No\n",
    "* 18.Average marks scored before pandemic in traditional classroom – range\n",
    "* 19.Your interaction in online mode - Number scale (Very Bad to Very Good)\n",
    "* 20.Clearing doubts with faculties in online mode - Number scale (Very Bad to Very Good)\n",
    "* 21.Interested in? – Practical, Theory, Both\n",
    "* 22.Performance in online - Number scale (Very Bad to Very Good)\n",
    "* 23.Your level of satisfaction in Online Education – Average, Bad, Good"
   ]
  },
  {
   "cell_type": "markdown",
   "id": "0398cb64",
   "metadata": {
    "papermill": {
     "duration": 0.019268,
     "end_time": "2024-09-28T06:45:47.147779",
     "exception": false,
     "start_time": "2024-09-28T06:45:47.128511",
     "status": "completed"
    },
    "tags": []
   },
   "source": [
    "### Checking Insights of Dataset"
   ]
  },
  {
   "cell_type": "code",
   "execution_count": 5,
   "id": "9888d9ba",
   "metadata": {
    "execution": {
     "iopub.execute_input": "2024-09-28T06:45:47.188198Z",
     "iopub.status.busy": "2024-09-28T06:45:47.187733Z",
     "iopub.status.idle": "2024-09-28T06:45:47.195630Z",
     "shell.execute_reply": "2024-09-28T06:45:47.194393Z"
    },
    "papermill": {
     "duration": 0.031142,
     "end_time": "2024-09-28T06:45:47.198316",
     "exception": false,
     "start_time": "2024-09-28T06:45:47.167174",
     "status": "completed"
    },
    "tags": []
   },
   "outputs": [
    {
     "data": {
      "text/plain": [
       "(1033, 23)"
      ]
     },
     "execution_count": 5,
     "metadata": {},
     "output_type": "execute_result"
    }
   ],
   "source": [
    "# checking the shape of Dataset\n",
    "\n",
    "harsh.shape"
   ]
  },
  {
   "cell_type": "markdown",
   "id": "f333b2c2",
   "metadata": {
    "papermill": {
     "duration": 0.018663,
     "end_time": "2024-09-28T06:45:47.236821",
     "exception": false,
     "start_time": "2024-09-28T06:45:47.218158",
     "status": "completed"
    },
    "tags": []
   },
   "source": [
    "* in my Dataset There are '1033' Rows and '23' Columns.."
   ]
  },
  {
   "cell_type": "code",
   "execution_count": 6,
   "id": "836be07c",
   "metadata": {
    "execution": {
     "iopub.execute_input": "2024-09-28T06:45:47.278437Z",
     "iopub.status.busy": "2024-09-28T06:45:47.277206Z",
     "iopub.status.idle": "2024-09-28T06:45:47.285585Z",
     "shell.execute_reply": "2024-09-28T06:45:47.284204Z"
    },
    "papermill": {
     "duration": 0.031844,
     "end_time": "2024-09-28T06:45:47.288461",
     "exception": false,
     "start_time": "2024-09-28T06:45:47.256617",
     "status": "completed"
    },
    "tags": []
   },
   "outputs": [
    {
     "data": {
      "text/plain": [
       "23759"
      ]
     },
     "execution_count": 6,
     "metadata": {},
     "output_type": "execute_result"
    }
   ],
   "source": [
    "# checking the size of Dataset\n",
    "\n",
    "harsh.size"
   ]
  },
  {
   "cell_type": "markdown",
   "id": "1370967e",
   "metadata": {
    "papermill": {
     "duration": 0.018621,
     "end_time": "2024-09-28T06:45:47.325888",
     "exception": false,
     "start_time": "2024-09-28T06:45:47.307267",
     "status": "completed"
    },
    "tags": []
   },
   "source": [
    "* It has total '23759' values.."
   ]
  },
  {
   "cell_type": "code",
   "execution_count": 7,
   "id": "a1732458",
   "metadata": {
    "execution": {
     "iopub.execute_input": "2024-09-28T06:45:47.365094Z",
     "iopub.status.busy": "2024-09-28T06:45:47.364660Z",
     "iopub.status.idle": "2024-09-28T06:45:47.386862Z",
     "shell.execute_reply": "2024-09-28T06:45:47.385703Z"
    },
    "papermill": {
     "duration": 0.045344,
     "end_time": "2024-09-28T06:45:47.389813",
     "exception": false,
     "start_time": "2024-09-28T06:45:47.344469",
     "status": "completed"
    },
    "tags": []
   },
   "outputs": [
    {
     "data": {
      "text/plain": [
       "0"
      ]
     },
     "execution_count": 7,
     "metadata": {},
     "output_type": "execute_result"
    }
   ],
   "source": [
    "# checking the duplicate values in Dataset\n",
    "\n",
    "harsh.duplicated().sum()"
   ]
  },
  {
   "cell_type": "markdown",
   "id": "583110c2",
   "metadata": {
    "papermill": {
     "duration": 0.018355,
     "end_time": "2024-09-28T06:45:47.426857",
     "exception": false,
     "start_time": "2024-09-28T06:45:47.408502",
     "status": "completed"
    },
    "tags": []
   },
   "source": [
    "* There are no duplicate value in the dataset "
   ]
  },
  {
   "cell_type": "code",
   "execution_count": 8,
   "id": "01ae6548",
   "metadata": {
    "execution": {
     "iopub.execute_input": "2024-09-28T06:45:47.466223Z",
     "iopub.status.busy": "2024-09-28T06:45:47.465798Z",
     "iopub.status.idle": "2024-09-28T06:45:47.488436Z",
     "shell.execute_reply": "2024-09-28T06:45:47.486980Z"
    },
    "papermill": {
     "duration": 0.046157,
     "end_time": "2024-09-28T06:45:47.491725",
     "exception": false,
     "start_time": "2024-09-28T06:45:47.445568",
     "status": "completed"
    },
    "tags": []
   },
   "outputs": [
    {
     "name": "stdout",
     "output_type": "stream",
     "text": [
      "<class 'pandas.core.frame.DataFrame'>\n",
      "RangeIndex: 1033 entries, 0 to 1032\n",
      "Data columns (total 23 columns):\n",
      " #   Column                                                         Non-Null Count  Dtype \n",
      "---  ------                                                         --------------  ----- \n",
      " 0   Gender                                                         1033 non-null   object\n",
      " 1   Home Location                                                  1033 non-null   object\n",
      " 2   Level of Education                                             1033 non-null   object\n",
      " 3   Age(Years)                                                     1033 non-null   int64 \n",
      " 4   Number of Subjects                                             1033 non-null   int64 \n",
      " 5   Device type used to attend classes                             1033 non-null   object\n",
      " 6   Economic status                                                1033 non-null   object\n",
      " 7   Family size                                                    1033 non-null   int64 \n",
      " 8   Internet facility in your locality                             1033 non-null   int64 \n",
      " 9   Are you involved in any sports?                                1033 non-null   object\n",
      " 10  Do elderly people monitor you?                                 1033 non-null   object\n",
      " 11  Study time (Hours)                                             1033 non-null   int64 \n",
      " 12  Sleep time (Hours)                                             1033 non-null   int64 \n",
      " 13  Time spent on social media (Hours)                             1033 non-null   int64 \n",
      " 14  Interested in Gaming?                                          1033 non-null   object\n",
      " 15  Have separate room for studying?                               1033 non-null   object\n",
      " 16  Engaged in group studies?                                      1033 non-null   object\n",
      " 17  Average marks scored before pandemic in traditional classroom  1033 non-null   object\n",
      " 18  Your interaction in online mode                                1033 non-null   int64 \n",
      " 19  Clearing doubts with faculties in online mode                  1033 non-null   int64 \n",
      " 20  Interested in?                                                 1033 non-null   object\n",
      " 21  Performance in online                                          1033 non-null   int64 \n",
      " 22  Your level of satisfaction in Online Education                 1033 non-null   object\n",
      "dtypes: int64(10), object(13)\n",
      "memory usage: 185.7+ KB\n"
     ]
    }
   ],
   "source": [
    "# checking the detail info of Dataset\n",
    "\n",
    "harsh.info()"
   ]
  },
  {
   "cell_type": "markdown",
   "id": "5967595a",
   "metadata": {
    "papermill": {
     "duration": 0.018539,
     "end_time": "2024-09-28T06:45:47.529285",
     "exception": false,
     "start_time": "2024-09-28T06:45:47.510746",
     "status": "completed"
    },
    "tags": []
   },
   "source": [
    "* There are total 23 columns in my Dataset.\n",
    "* In that 10 are numerical columns and 13 are categorical columns.\n",
    "* there are no missing columns in dataset.\n",
    "\n"
   ]
  },
  {
   "cell_type": "code",
   "execution_count": 9,
   "id": "f0ba7ff2",
   "metadata": {
    "execution": {
     "iopub.execute_input": "2024-09-28T06:45:47.569023Z",
     "iopub.status.busy": "2024-09-28T06:45:47.568558Z",
     "iopub.status.idle": "2024-09-28T06:45:47.617079Z",
     "shell.execute_reply": "2024-09-28T06:45:47.615738Z"
    },
    "papermill": {
     "duration": 0.072131,
     "end_time": "2024-09-28T06:45:47.620301",
     "exception": false,
     "start_time": "2024-09-28T06:45:47.548170",
     "status": "completed"
    },
    "tags": []
   },
   "outputs": [
    {
     "data": {
      "text/html": [
       "<div>\n",
       "<style scoped>\n",
       "    .dataframe tbody tr th:only-of-type {\n",
       "        vertical-align: middle;\n",
       "    }\n",
       "\n",
       "    .dataframe tbody tr th {\n",
       "        vertical-align: top;\n",
       "    }\n",
       "\n",
       "    .dataframe thead th {\n",
       "        text-align: right;\n",
       "    }\n",
       "</style>\n",
       "<table border=\"1\" class=\"dataframe\">\n",
       "  <thead>\n",
       "    <tr style=\"text-align: right;\">\n",
       "      <th></th>\n",
       "      <th>Age(Years)</th>\n",
       "      <th>Number of Subjects</th>\n",
       "      <th>Family size</th>\n",
       "      <th>Internet facility in your locality</th>\n",
       "      <th>Study time (Hours)</th>\n",
       "      <th>Sleep time (Hours)</th>\n",
       "      <th>Time spent on social media (Hours)</th>\n",
       "      <th>Your interaction in online mode</th>\n",
       "      <th>Clearing doubts with faculties in online mode</th>\n",
       "      <th>Performance in online</th>\n",
       "    </tr>\n",
       "  </thead>\n",
       "  <tbody>\n",
       "    <tr>\n",
       "      <th>count</th>\n",
       "      <td>1033.000000</td>\n",
       "      <td>1033.00000</td>\n",
       "      <td>1033.000000</td>\n",
       "      <td>1033.000000</td>\n",
       "      <td>1033.000000</td>\n",
       "      <td>1033.000000</td>\n",
       "      <td>1033.000000</td>\n",
       "      <td>1033.000000</td>\n",
       "      <td>1033.000000</td>\n",
       "      <td>1033.000000</td>\n",
       "    </tr>\n",
       "    <tr>\n",
       "      <th>mean</th>\n",
       "      <td>19.798645</td>\n",
       "      <td>7.03485</td>\n",
       "      <td>4.413359</td>\n",
       "      <td>3.586641</td>\n",
       "      <td>4.325266</td>\n",
       "      <td>6.947725</td>\n",
       "      <td>2.636980</td>\n",
       "      <td>2.930300</td>\n",
       "      <td>2.833495</td>\n",
       "      <td>6.696031</td>\n",
       "    </tr>\n",
       "    <tr>\n",
       "      <th>std</th>\n",
       "      <td>3.199158</td>\n",
       "      <td>2.81034</td>\n",
       "      <td>1.236750</td>\n",
       "      <td>1.026063</td>\n",
       "      <td>2.134233</td>\n",
       "      <td>1.324039</td>\n",
       "      <td>1.859625</td>\n",
       "      <td>1.105387</td>\n",
       "      <td>1.163629</td>\n",
       "      <td>1.920048</td>\n",
       "    </tr>\n",
       "    <tr>\n",
       "      <th>min</th>\n",
       "      <td>9.000000</td>\n",
       "      <td>1.00000</td>\n",
       "      <td>2.000000</td>\n",
       "      <td>1.000000</td>\n",
       "      <td>1.000000</td>\n",
       "      <td>1.000000</td>\n",
       "      <td>1.000000</td>\n",
       "      <td>1.000000</td>\n",
       "      <td>1.000000</td>\n",
       "      <td>2.000000</td>\n",
       "    </tr>\n",
       "    <tr>\n",
       "      <th>25%</th>\n",
       "      <td>18.000000</td>\n",
       "      <td>6.00000</td>\n",
       "      <td>4.000000</td>\n",
       "      <td>3.000000</td>\n",
       "      <td>3.000000</td>\n",
       "      <td>6.000000</td>\n",
       "      <td>1.000000</td>\n",
       "      <td>2.000000</td>\n",
       "      <td>2.000000</td>\n",
       "      <td>6.000000</td>\n",
       "    </tr>\n",
       "    <tr>\n",
       "      <th>50%</th>\n",
       "      <td>19.000000</td>\n",
       "      <td>7.00000</td>\n",
       "      <td>4.000000</td>\n",
       "      <td>4.000000</td>\n",
       "      <td>4.000000</td>\n",
       "      <td>7.000000</td>\n",
       "      <td>2.000000</td>\n",
       "      <td>3.000000</td>\n",
       "      <td>3.000000</td>\n",
       "      <td>7.000000</td>\n",
       "    </tr>\n",
       "    <tr>\n",
       "      <th>75%</th>\n",
       "      <td>20.000000</td>\n",
       "      <td>8.00000</td>\n",
       "      <td>5.000000</td>\n",
       "      <td>4.000000</td>\n",
       "      <td>6.000000</td>\n",
       "      <td>8.000000</td>\n",
       "      <td>3.000000</td>\n",
       "      <td>4.000000</td>\n",
       "      <td>4.000000</td>\n",
       "      <td>8.000000</td>\n",
       "    </tr>\n",
       "    <tr>\n",
       "      <th>max</th>\n",
       "      <td>40.000000</td>\n",
       "      <td>20.00000</td>\n",
       "      <td>10.000000</td>\n",
       "      <td>5.000000</td>\n",
       "      <td>10.000000</td>\n",
       "      <td>10.000000</td>\n",
       "      <td>10.000000</td>\n",
       "      <td>5.000000</td>\n",
       "      <td>5.000000</td>\n",
       "      <td>10.000000</td>\n",
       "    </tr>\n",
       "  </tbody>\n",
       "</table>\n",
       "</div>"
      ],
      "text/plain": [
       "        Age(Years)  Number of Subjects  Family size  \\\n",
       "count  1033.000000          1033.00000  1033.000000   \n",
       "mean     19.798645             7.03485     4.413359   \n",
       "std       3.199158             2.81034     1.236750   \n",
       "min       9.000000             1.00000     2.000000   \n",
       "25%      18.000000             6.00000     4.000000   \n",
       "50%      19.000000             7.00000     4.000000   \n",
       "75%      20.000000             8.00000     5.000000   \n",
       "max      40.000000            20.00000    10.000000   \n",
       "\n",
       "       Internet facility in your locality  Study time (Hours)  \\\n",
       "count                         1033.000000         1033.000000   \n",
       "mean                             3.586641            4.325266   \n",
       "std                              1.026063            2.134233   \n",
       "min                              1.000000            1.000000   \n",
       "25%                              3.000000            3.000000   \n",
       "50%                              4.000000            4.000000   \n",
       "75%                              4.000000            6.000000   \n",
       "max                              5.000000           10.000000   \n",
       "\n",
       "       Sleep time (Hours)  Time spent on social media (Hours)  \\\n",
       "count         1033.000000                         1033.000000   \n",
       "mean             6.947725                            2.636980   \n",
       "std              1.324039                            1.859625   \n",
       "min              1.000000                            1.000000   \n",
       "25%              6.000000                            1.000000   \n",
       "50%              7.000000                            2.000000   \n",
       "75%              8.000000                            3.000000   \n",
       "max             10.000000                           10.000000   \n",
       "\n",
       "       Your interaction in online mode  \\\n",
       "count                      1033.000000   \n",
       "mean                          2.930300   \n",
       "std                           1.105387   \n",
       "min                           1.000000   \n",
       "25%                           2.000000   \n",
       "50%                           3.000000   \n",
       "75%                           4.000000   \n",
       "max                           5.000000   \n",
       "\n",
       "       Clearing doubts with faculties in online mode  Performance in online  \n",
       "count                                    1033.000000            1033.000000  \n",
       "mean                                        2.833495               6.696031  \n",
       "std                                         1.163629               1.920048  \n",
       "min                                         1.000000               2.000000  \n",
       "25%                                         2.000000               6.000000  \n",
       "50%                                         3.000000               7.000000  \n",
       "75%                                         4.000000               8.000000  \n",
       "max                                         5.000000              10.000000  "
      ]
     },
     "execution_count": 9,
     "metadata": {},
     "output_type": "execute_result"
    }
   ],
   "source": [
    "# checking detail describetion of Dataset\n",
    "\n",
    "harsh.describe()"
   ]
  },
  {
   "cell_type": "markdown",
   "id": "128d445f",
   "metadata": {
    "papermill": {
     "duration": 0.019004,
     "end_time": "2024-09-28T06:45:47.658693",
     "exception": false,
     "start_time": "2024-09-28T06:45:47.639689",
     "status": "completed"
    },
    "tags": []
   },
   "source": [
    "* The decribe function gives the values of mean,median,mode,sd for numerical columns\n",
    "* we can see the range of students who used the online education are between 9 to 40..\n",
    "* the study time are between 1 to 10..\n",
    "* the sleep time are between 1 to 10."
   ]
  },
  {
   "cell_type": "code",
   "execution_count": 10,
   "id": "75a8120b",
   "metadata": {
    "execution": {
     "iopub.execute_input": "2024-09-28T06:45:47.700399Z",
     "iopub.status.busy": "2024-09-28T06:45:47.698989Z",
     "iopub.status.idle": "2024-09-28T06:45:47.713378Z",
     "shell.execute_reply": "2024-09-28T06:45:47.711441Z"
    },
    "papermill": {
     "duration": 0.038863,
     "end_time": "2024-09-28T06:45:47.716855",
     "exception": false,
     "start_time": "2024-09-28T06:45:47.677992",
     "status": "completed"
    },
    "tags": []
   },
   "outputs": [
    {
     "data": {
      "text/plain": [
       "0"
      ]
     },
     "execution_count": 10,
     "metadata": {},
     "output_type": "execute_result"
    }
   ],
   "source": [
    "# checking the duplicated values..\n",
    "\n",
    "harsh.duplicated().sum()"
   ]
  },
  {
   "cell_type": "markdown",
   "id": "19165e03",
   "metadata": {
    "papermill": {
     "duration": 0.01912,
     "end_time": "2024-09-28T06:45:47.755714",
     "exception": false,
     "start_time": "2024-09-28T06:45:47.736594",
     "status": "completed"
    },
    "tags": []
   },
   "source": [
    "* there are no duplicated value in dataset.."
   ]
  },
  {
   "cell_type": "code",
   "execution_count": 11,
   "id": "3aa94f23",
   "metadata": {
    "execution": {
     "iopub.execute_input": "2024-09-28T06:45:47.797023Z",
     "iopub.status.busy": "2024-09-28T06:45:47.796238Z",
     "iopub.status.idle": "2024-09-28T06:45:47.813271Z",
     "shell.execute_reply": "2024-09-28T06:45:47.811878Z"
    },
    "papermill": {
     "duration": 0.040987,
     "end_time": "2024-09-28T06:45:47.816219",
     "exception": false,
     "start_time": "2024-09-28T06:45:47.775232",
     "status": "completed"
    },
    "tags": []
   },
   "outputs": [
    {
     "data": {
      "text/plain": [
       "Gender                                                            2\n",
       "Home Location                                                     2\n",
       "Level of Education                                                3\n",
       "Age(Years)                                                       24\n",
       "Number of Subjects                                               20\n",
       "Device type used to attend classes                                3\n",
       "Economic status                                                   3\n",
       "Family size                                                       9\n",
       "Internet facility in your locality                                5\n",
       "Are you involved in any sports?                                   2\n",
       "Do elderly people monitor you?                                    2\n",
       "Study time (Hours)                                               10\n",
       "Sleep time (Hours)                                               10\n",
       "Time spent on social media (Hours)                               10\n",
       "Interested in Gaming?                                             2\n",
       "Have separate room for studying?                                  2\n",
       "Engaged in group studies?                                         2\n",
       "Average marks scored before pandemic in traditional classroom    10\n",
       "Your interaction in online mode                                   5\n",
       "Clearing doubts with faculties in online mode                     5\n",
       "Interested in?                                                    3\n",
       "Performance in online                                             9\n",
       "Your level of satisfaction in Online Education                    3\n",
       "dtype: int64"
      ]
     },
     "execution_count": 11,
     "metadata": {},
     "output_type": "execute_result"
    }
   ],
   "source": [
    "# checking the nunique values.\n",
    "\n",
    "harsh.nunique()"
   ]
  },
  {
   "cell_type": "code",
   "execution_count": 12,
   "id": "b34bd91d",
   "metadata": {
    "execution": {
     "iopub.execute_input": "2024-09-28T06:45:47.859064Z",
     "iopub.status.busy": "2024-09-28T06:45:47.857884Z",
     "iopub.status.idle": "2024-09-28T06:45:47.874904Z",
     "shell.execute_reply": "2024-09-28T06:45:47.872719Z"
    },
    "papermill": {
     "duration": 0.042383,
     "end_time": "2024-09-28T06:45:47.878566",
     "exception": false,
     "start_time": "2024-09-28T06:45:47.836183",
     "status": "completed"
    },
    "tags": []
   },
   "outputs": [
    {
     "data": {
      "text/plain": [
       "Gender                                                           0\n",
       "Home Location                                                    0\n",
       "Level of Education                                               0\n",
       "Age(Years)                                                       0\n",
       "Number of Subjects                                               0\n",
       "Device type used to attend classes                               0\n",
       "Economic status                                                  0\n",
       "Family size                                                      0\n",
       "Internet facility in your locality                               0\n",
       "Are you involved in any sports?                                  0\n",
       "Do elderly people monitor you?                                   0\n",
       "Study time (Hours)                                               0\n",
       "Sleep time (Hours)                                               0\n",
       "Time spent on social media (Hours)                               0\n",
       "Interested in Gaming?                                            0\n",
       "Have separate room for studying?                                 0\n",
       "Engaged in group studies?                                        0\n",
       "Average marks scored before pandemic in traditional classroom    0\n",
       "Your interaction in online mode                                  0\n",
       "Clearing doubts with faculties in online mode                    0\n",
       "Interested in?                                                   0\n",
       "Performance in online                                            0\n",
       "Your level of satisfaction in Online Education                   0\n",
       "dtype: int64"
      ]
     },
     "execution_count": 12,
     "metadata": {},
     "output_type": "execute_result"
    }
   ],
   "source": [
    "# checking the null values.\n",
    "\n",
    "harsh.isnull().sum()"
   ]
  },
  {
   "cell_type": "markdown",
   "id": "7bd289e9",
   "metadata": {
    "papermill": {
     "duration": 0.020696,
     "end_time": "2024-09-28T06:45:47.920893",
     "exception": false,
     "start_time": "2024-09-28T06:45:47.900197",
     "status": "completed"
    },
    "tags": []
   },
   "source": [
    "* No missing value in dataset.."
   ]
  },
  {
   "cell_type": "code",
   "execution_count": 13,
   "id": "2fe97ff4",
   "metadata": {
    "execution": {
     "iopub.execute_input": "2024-09-28T06:45:47.966049Z",
     "iopub.status.busy": "2024-09-28T06:45:47.965556Z",
     "iopub.status.idle": "2024-09-28T06:45:47.993144Z",
     "shell.execute_reply": "2024-09-28T06:45:47.991709Z"
    },
    "papermill": {
     "duration": 0.05257,
     "end_time": "2024-09-28T06:45:47.996174",
     "exception": false,
     "start_time": "2024-09-28T06:45:47.943604",
     "status": "completed"
    },
    "tags": []
   },
   "outputs": [
    {
     "data": {
      "text/html": [
       "<div>\n",
       "<style scoped>\n",
       "    .dataframe tbody tr th:only-of-type {\n",
       "        vertical-align: middle;\n",
       "    }\n",
       "\n",
       "    .dataframe tbody tr th {\n",
       "        vertical-align: top;\n",
       "    }\n",
       "\n",
       "    .dataframe thead th {\n",
       "        text-align: right;\n",
       "    }\n",
       "</style>\n",
       "<table border=\"1\" class=\"dataframe\">\n",
       "  <thead>\n",
       "    <tr style=\"text-align: right;\">\n",
       "      <th></th>\n",
       "      <th>Age(Years)</th>\n",
       "      <th>Number of Subjects</th>\n",
       "      <th>Family size</th>\n",
       "      <th>Internet facility in your locality</th>\n",
       "      <th>Study time (Hours)</th>\n",
       "      <th>Sleep time (Hours)</th>\n",
       "      <th>Time spent on social media (Hours)</th>\n",
       "      <th>Your interaction in online mode</th>\n",
       "      <th>Clearing doubts with faculties in online mode</th>\n",
       "      <th>Performance in online</th>\n",
       "    </tr>\n",
       "  </thead>\n",
       "  <tbody>\n",
       "    <tr>\n",
       "      <th>Age(Years)</th>\n",
       "      <td>1.000000</td>\n",
       "      <td>-0.011505</td>\n",
       "      <td>0.016893</td>\n",
       "      <td>0.072625</td>\n",
       "      <td>0.005344</td>\n",
       "      <td>-0.072031</td>\n",
       "      <td>0.005455</td>\n",
       "      <td>0.171943</td>\n",
       "      <td>0.125559</td>\n",
       "      <td>0.114965</td>\n",
       "    </tr>\n",
       "    <tr>\n",
       "      <th>Number of Subjects</th>\n",
       "      <td>-0.011505</td>\n",
       "      <td>1.000000</td>\n",
       "      <td>0.035997</td>\n",
       "      <td>-0.025915</td>\n",
       "      <td>0.024280</td>\n",
       "      <td>0.051531</td>\n",
       "      <td>0.004833</td>\n",
       "      <td>-0.005144</td>\n",
       "      <td>-0.008595</td>\n",
       "      <td>0.012740</td>\n",
       "    </tr>\n",
       "    <tr>\n",
       "      <th>Family size</th>\n",
       "      <td>0.016893</td>\n",
       "      <td>0.035997</td>\n",
       "      <td>1.000000</td>\n",
       "      <td>-0.020996</td>\n",
       "      <td>0.060614</td>\n",
       "      <td>-0.015787</td>\n",
       "      <td>0.053512</td>\n",
       "      <td>-0.024268</td>\n",
       "      <td>-0.019461</td>\n",
       "      <td>0.001549</td>\n",
       "    </tr>\n",
       "    <tr>\n",
       "      <th>Internet facility in your locality</th>\n",
       "      <td>0.072625</td>\n",
       "      <td>-0.025915</td>\n",
       "      <td>-0.020996</td>\n",
       "      <td>1.000000</td>\n",
       "      <td>-0.011554</td>\n",
       "      <td>0.051838</td>\n",
       "      <td>0.082772</td>\n",
       "      <td>0.204391</td>\n",
       "      <td>0.158990</td>\n",
       "      <td>0.257339</td>\n",
       "    </tr>\n",
       "    <tr>\n",
       "      <th>Study time (Hours)</th>\n",
       "      <td>0.005344</td>\n",
       "      <td>0.024280</td>\n",
       "      <td>0.060614</td>\n",
       "      <td>-0.011554</td>\n",
       "      <td>1.000000</td>\n",
       "      <td>-0.044385</td>\n",
       "      <td>-0.125986</td>\n",
       "      <td>0.148859</td>\n",
       "      <td>0.175169</td>\n",
       "      <td>0.134344</td>\n",
       "    </tr>\n",
       "    <tr>\n",
       "      <th>Sleep time (Hours)</th>\n",
       "      <td>-0.072031</td>\n",
       "      <td>0.051531</td>\n",
       "      <td>-0.015787</td>\n",
       "      <td>0.051838</td>\n",
       "      <td>-0.044385</td>\n",
       "      <td>1.000000</td>\n",
       "      <td>0.144587</td>\n",
       "      <td>0.032598</td>\n",
       "      <td>0.043402</td>\n",
       "      <td>0.065020</td>\n",
       "    </tr>\n",
       "    <tr>\n",
       "      <th>Time spent on social media (Hours)</th>\n",
       "      <td>0.005455</td>\n",
       "      <td>0.004833</td>\n",
       "      <td>0.053512</td>\n",
       "      <td>0.082772</td>\n",
       "      <td>-0.125986</td>\n",
       "      <td>0.144587</td>\n",
       "      <td>1.000000</td>\n",
       "      <td>-0.083972</td>\n",
       "      <td>-0.101847</td>\n",
       "      <td>-0.086568</td>\n",
       "    </tr>\n",
       "    <tr>\n",
       "      <th>Your interaction in online mode</th>\n",
       "      <td>0.171943</td>\n",
       "      <td>-0.005144</td>\n",
       "      <td>-0.024268</td>\n",
       "      <td>0.204391</td>\n",
       "      <td>0.148859</td>\n",
       "      <td>0.032598</td>\n",
       "      <td>-0.083972</td>\n",
       "      <td>1.000000</td>\n",
       "      <td>0.723216</td>\n",
       "      <td>0.557507</td>\n",
       "    </tr>\n",
       "    <tr>\n",
       "      <th>Clearing doubts with faculties in online mode</th>\n",
       "      <td>0.125559</td>\n",
       "      <td>-0.008595</td>\n",
       "      <td>-0.019461</td>\n",
       "      <td>0.158990</td>\n",
       "      <td>0.175169</td>\n",
       "      <td>0.043402</td>\n",
       "      <td>-0.101847</td>\n",
       "      <td>0.723216</td>\n",
       "      <td>1.000000</td>\n",
       "      <td>0.561091</td>\n",
       "    </tr>\n",
       "    <tr>\n",
       "      <th>Performance in online</th>\n",
       "      <td>0.114965</td>\n",
       "      <td>0.012740</td>\n",
       "      <td>0.001549</td>\n",
       "      <td>0.257339</td>\n",
       "      <td>0.134344</td>\n",
       "      <td>0.065020</td>\n",
       "      <td>-0.086568</td>\n",
       "      <td>0.557507</td>\n",
       "      <td>0.561091</td>\n",
       "      <td>1.000000</td>\n",
       "    </tr>\n",
       "  </tbody>\n",
       "</table>\n",
       "</div>"
      ],
      "text/plain": [
       "                                               Age(Years)  Number of Subjects  \\\n",
       "Age(Years)                                       1.000000           -0.011505   \n",
       "Number of Subjects                              -0.011505            1.000000   \n",
       "Family size                                      0.016893            0.035997   \n",
       "Internet facility in your locality               0.072625           -0.025915   \n",
       "Study time (Hours)                               0.005344            0.024280   \n",
       "Sleep time (Hours)                              -0.072031            0.051531   \n",
       "Time spent on social media (Hours)               0.005455            0.004833   \n",
       "Your interaction in online mode                  0.171943           -0.005144   \n",
       "Clearing doubts with faculties in online mode    0.125559           -0.008595   \n",
       "Performance in online                            0.114965            0.012740   \n",
       "\n",
       "                                               Family size  \\\n",
       "Age(Years)                                        0.016893   \n",
       "Number of Subjects                                0.035997   \n",
       "Family size                                       1.000000   \n",
       "Internet facility in your locality               -0.020996   \n",
       "Study time (Hours)                                0.060614   \n",
       "Sleep time (Hours)                               -0.015787   \n",
       "Time spent on social media (Hours)                0.053512   \n",
       "Your interaction in online mode                  -0.024268   \n",
       "Clearing doubts with faculties in online mode    -0.019461   \n",
       "Performance in online                             0.001549   \n",
       "\n",
       "                                               Internet facility in your locality  \\\n",
       "Age(Years)                                                               0.072625   \n",
       "Number of Subjects                                                      -0.025915   \n",
       "Family size                                                             -0.020996   \n",
       "Internet facility in your locality                                       1.000000   \n",
       "Study time (Hours)                                                      -0.011554   \n",
       "Sleep time (Hours)                                                       0.051838   \n",
       "Time spent on social media (Hours)                                       0.082772   \n",
       "Your interaction in online mode                                          0.204391   \n",
       "Clearing doubts with faculties in online mode                            0.158990   \n",
       "Performance in online                                                    0.257339   \n",
       "\n",
       "                                               Study time (Hours)  \\\n",
       "Age(Years)                                               0.005344   \n",
       "Number of Subjects                                       0.024280   \n",
       "Family size                                              0.060614   \n",
       "Internet facility in your locality                      -0.011554   \n",
       "Study time (Hours)                                       1.000000   \n",
       "Sleep time (Hours)                                      -0.044385   \n",
       "Time spent on social media (Hours)                      -0.125986   \n",
       "Your interaction in online mode                          0.148859   \n",
       "Clearing doubts with faculties in online mode            0.175169   \n",
       "Performance in online                                    0.134344   \n",
       "\n",
       "                                               Sleep time (Hours)  \\\n",
       "Age(Years)                                              -0.072031   \n",
       "Number of Subjects                                       0.051531   \n",
       "Family size                                             -0.015787   \n",
       "Internet facility in your locality                       0.051838   \n",
       "Study time (Hours)                                      -0.044385   \n",
       "Sleep time (Hours)                                       1.000000   \n",
       "Time spent on social media (Hours)                       0.144587   \n",
       "Your interaction in online mode                          0.032598   \n",
       "Clearing doubts with faculties in online mode            0.043402   \n",
       "Performance in online                                    0.065020   \n",
       "\n",
       "                                               Time spent on social media (Hours)  \\\n",
       "Age(Years)                                                               0.005455   \n",
       "Number of Subjects                                                       0.004833   \n",
       "Family size                                                              0.053512   \n",
       "Internet facility in your locality                                       0.082772   \n",
       "Study time (Hours)                                                      -0.125986   \n",
       "Sleep time (Hours)                                                       0.144587   \n",
       "Time spent on social media (Hours)                                       1.000000   \n",
       "Your interaction in online mode                                         -0.083972   \n",
       "Clearing doubts with faculties in online mode                           -0.101847   \n",
       "Performance in online                                                   -0.086568   \n",
       "\n",
       "                                               Your interaction in online mode  \\\n",
       "Age(Years)                                                            0.171943   \n",
       "Number of Subjects                                                   -0.005144   \n",
       "Family size                                                          -0.024268   \n",
       "Internet facility in your locality                                    0.204391   \n",
       "Study time (Hours)                                                    0.148859   \n",
       "Sleep time (Hours)                                                    0.032598   \n",
       "Time spent on social media (Hours)                                   -0.083972   \n",
       "Your interaction in online mode                                       1.000000   \n",
       "Clearing doubts with faculties in online mode                         0.723216   \n",
       "Performance in online                                                 0.557507   \n",
       "\n",
       "                                               Clearing doubts with faculties in online mode  \\\n",
       "Age(Years)                                                                          0.125559   \n",
       "Number of Subjects                                                                 -0.008595   \n",
       "Family size                                                                        -0.019461   \n",
       "Internet facility in your locality                                                  0.158990   \n",
       "Study time (Hours)                                                                  0.175169   \n",
       "Sleep time (Hours)                                                                  0.043402   \n",
       "Time spent on social media (Hours)                                                 -0.101847   \n",
       "Your interaction in online mode                                                     0.723216   \n",
       "Clearing doubts with faculties in online mode                                       1.000000   \n",
       "Performance in online                                                               0.561091   \n",
       "\n",
       "                                               Performance in online  \n",
       "Age(Years)                                                  0.114965  \n",
       "Number of Subjects                                          0.012740  \n",
       "Family size                                                 0.001549  \n",
       "Internet facility in your locality                          0.257339  \n",
       "Study time (Hours)                                          0.134344  \n",
       "Sleep time (Hours)                                          0.065020  \n",
       "Time spent on social media (Hours)                         -0.086568  \n",
       "Your interaction in online mode                             0.557507  \n",
       "Clearing doubts with faculties in online mode               0.561091  \n",
       "Performance in online                                       1.000000  "
      ]
     },
     "execution_count": 13,
     "metadata": {},
     "output_type": "execute_result"
    }
   ],
   "source": [
    "# checking the correlation\n",
    "\n",
    "harsh.corr() # we check correlation with numeric data"
   ]
  },
  {
   "cell_type": "markdown",
   "id": "716e92ab",
   "metadata": {
    "papermill": {
     "duration": 0.020405,
     "end_time": "2024-09-28T06:45:48.038313",
     "exception": false,
     "start_time": "2024-09-28T06:45:48.017908",
     "status": "completed"
    },
    "tags": []
   },
   "source": [
    "### Removing Unimportant Columns"
   ]
  },
  {
   "cell_type": "code",
   "execution_count": 14,
   "id": "e4151906",
   "metadata": {
    "execution": {
     "iopub.execute_input": "2024-09-28T06:45:48.081851Z",
     "iopub.status.busy": "2024-09-28T06:45:48.080950Z",
     "iopub.status.idle": "2024-09-28T06:45:48.092251Z",
     "shell.execute_reply": "2024-09-28T06:45:48.090923Z"
    },
    "papermill": {
     "duration": 0.036205,
     "end_time": "2024-09-28T06:45:48.095108",
     "exception": false,
     "start_time": "2024-09-28T06:45:48.058903",
     "status": "completed"
    },
    "tags": []
   },
   "outputs": [
    {
     "data": {
      "text/plain": [
       "Index(['Gender', 'Home Location', 'Level of Education', 'Age(Years)',\n",
       "       'Number of Subjects', 'Device type used to attend classes',\n",
       "       'Economic status', 'Family size', 'Internet facility in your locality',\n",
       "       'Are you involved in any sports?', 'Do elderly people monitor you?',\n",
       "       'Study time (Hours)', 'Sleep time (Hours)',\n",
       "       'Time spent on social media (Hours)', 'Interested in Gaming?',\n",
       "       'Engaged in group studies?',\n",
       "       'Average marks scored before pandemic in traditional classroom',\n",
       "       'Your interaction in online mode',\n",
       "       'Clearing doubts with faculties in online mode', 'Interested in?',\n",
       "       'Performance in online',\n",
       "       'Your level of satisfaction in Online Education'],\n",
       "      dtype='object')"
      ]
     },
     "execution_count": 14,
     "metadata": {},
     "output_type": "execute_result"
    }
   ],
   "source": [
    "harsh.drop([\"Have separate room for studying?\"], axis=1,inplace=True)\n",
    "harsh.columns"
   ]
  },
  {
   "cell_type": "markdown",
   "id": "821a022e",
   "metadata": {
    "papermill": {
     "duration": 0.021406,
     "end_time": "2024-09-28T06:45:48.137742",
     "exception": false,
     "start_time": "2024-09-28T06:45:48.116336",
     "status": "completed"
    },
    "tags": []
   },
   "source": [
    "## Exploratory Analysis & Visualizations - EDA"
   ]
  },
  {
   "cell_type": "markdown",
   "id": "9eba644a",
   "metadata": {
    "papermill": {
     "duration": 0.021741,
     "end_time": "2024-09-28T06:45:48.180232",
     "exception": false,
     "start_time": "2024-09-28T06:45:48.158491",
     "status": "completed"
    },
    "tags": []
   },
   "source": [
    "#### 1.How Gender impacts Education?"
   ]
  },
  {
   "cell_type": "code",
   "execution_count": 15,
   "id": "7e9ecfb3",
   "metadata": {
    "execution": {
     "iopub.execute_input": "2024-09-28T06:45:48.226888Z",
     "iopub.status.busy": "2024-09-28T06:45:48.226410Z",
     "iopub.status.idle": "2024-09-28T06:45:48.236877Z",
     "shell.execute_reply": "2024-09-28T06:45:48.235418Z"
    },
    "papermill": {
     "duration": 0.037848,
     "end_time": "2024-09-28T06:45:48.240072",
     "exception": false,
     "start_time": "2024-09-28T06:45:48.202224",
     "status": "completed"
    },
    "tags": []
   },
   "outputs": [
    {
     "data": {
      "text/plain": [
       "Male      614\n",
       "Female    419\n",
       "Name: Gender, dtype: int64"
      ]
     },
     "execution_count": 15,
     "metadata": {},
     "output_type": "execute_result"
    }
   ],
   "source": [
    "# Checking value counts for 'Gender' column.\n",
    "\n",
    "harsh['Gender'].value_counts()"
   ]
  },
  {
   "cell_type": "code",
   "execution_count": 16,
   "id": "a0b02b79",
   "metadata": {
    "execution": {
     "iopub.execute_input": "2024-09-28T06:45:48.285435Z",
     "iopub.status.busy": "2024-09-28T06:45:48.284983Z",
     "iopub.status.idle": "2024-09-28T06:45:48.536109Z",
     "shell.execute_reply": "2024-09-28T06:45:48.534715Z"
    },
    "papermill": {
     "duration": 0.279191,
     "end_time": "2024-09-28T06:45:48.540823",
     "exception": false,
     "start_time": "2024-09-28T06:45:48.261632",
     "status": "completed"
    },
    "tags": []
   },
   "outputs": [
    {
     "data": {
      "text/plain": [
       "Text(0.5, 1.0, 'Gender')"
      ]
     },
     "execution_count": 16,
     "metadata": {},
     "output_type": "execute_result"
    },
    {
     "data": {
      "image/png": "[encoded data removed]",
      "text/plain": [
       "<Figure size 500x500 with 1 Axes>"
      ]
     },
     "metadata": {},
     "output_type": "display_data"
    }
   ],
   "source": [
    "# plotting the pia chart.\n",
    "\n",
    "plt.figure(figsize=(5,5)) \n",
    "harsh['Gender'].value_counts().plot(kind = \"pie\" ,autopct='%1.1f%%')    # autopct display the percent value using string formatting\n",
    "plt.title('Gender',size=20)"
   ]
  },
  {
   "cell_type": "markdown",
   "id": "0c2c4a7f",
   "metadata": {
    "papermill": {
     "duration": 0.021602,
     "end_time": "2024-09-28T06:45:48.601413",
     "exception": false,
     "start_time": "2024-09-28T06:45:48.579811",
     "status": "completed"
    },
    "tags": []
   },
   "source": [
    "#### Insight:\n",
    "* Male students show higher adaptivity (59.4%) to education over Females('40.6').."
   ]
  },
  {
   "cell_type": "markdown",
   "id": "6770ec22",
   "metadata": {
    "papermill": {
     "duration": 0.02135,
     "end_time": "2024-09-28T06:45:48.644562",
     "exception": false,
     "start_time": "2024-09-28T06:45:48.623212",
     "status": "completed"
    },
    "tags": []
   },
   "source": [
    "### 2.How Age Group impacts Education?"
   ]
  },
  {
   "cell_type": "code",
   "execution_count": 17,
   "id": "c49514f8",
   "metadata": {
    "execution": {
     "iopub.execute_input": "2024-09-28T06:45:48.690090Z",
     "iopub.status.busy": "2024-09-28T06:45:48.689627Z",
     "iopub.status.idle": "2024-09-28T06:45:49.261712Z",
     "shell.execute_reply": "2024-09-28T06:45:49.260363Z"
    },
    "papermill": {
     "duration": 0.599973,
     "end_time": "2024-09-28T06:45:49.266259",
     "exception": false,
     "start_time": "2024-09-28T06:45:48.666286",
     "status": "completed"
    },
    "tags": []
   },
   "outputs": [
    {
     "data": {
      "image/png": "[encoded data removed]",
      "text/plain": [
       "<Figure size 1800x800 with 1 Axes>"
      ]
     },
     "metadata": {},
     "output_type": "display_data"
    }
   ],
   "source": [
    "# plotting the count plot\n",
    "\n",
    "plt.figure(figsize=(18, 8))\n",
    "sns.set(style='darkgrid')    \n",
    "plot = sns.countplot(x='Age(Years)', data=harsh, palette= 'Dark2')  # palette are to control colors or patterns of a colume\n",
    "plt.title('Age Distribution', size= 20)\n",
    "plt.xlabel('Age groups', weight='bold')\n",
    "plt.ylabel('Number of students', weight='bold')\n",
    "plt.show()"
   ]
  },
  {
   "cell_type": "markdown",
   "id": "daa3d6ba",
   "metadata": {
    "papermill": {
     "duration": 0.024267,
     "end_time": "2024-09-28T06:45:49.320799",
     "exception": false,
     "start_time": "2024-09-28T06:45:49.296532",
     "status": "completed"
    },
    "tags": []
   },
   "source": [
    "#### Insight : \n",
    "* students are age between 17 - 21 are gives more priority to education.\n",
    "* we can see the pepole between age (27-30) shows no interset for education."
   ]
  },
  {
   "cell_type": "markdown",
   "id": "b3f95079",
   "metadata": {
    "papermill": {
     "duration": 0.022872,
     "end_time": "2024-09-28T06:45:49.377016",
     "exception": false,
     "start_time": "2024-09-28T06:45:49.354144",
     "status": "completed"
    },
    "tags": []
   },
   "source": [
    "### 3.How Education Level impacts Education?"
   ]
  },
  {
   "cell_type": "code",
   "execution_count": 18,
   "id": "bbee8b0d",
   "metadata": {
    "execution": {
     "iopub.execute_input": "2024-09-28T06:45:49.426464Z",
     "iopub.status.busy": "2024-09-28T06:45:49.425887Z",
     "iopub.status.idle": "2024-09-28T06:45:49.437809Z",
     "shell.execute_reply": "2024-09-28T06:45:49.436558Z"
    },
    "papermill": {
     "duration": 0.040584,
     "end_time": "2024-09-28T06:45:49.440908",
     "exception": false,
     "start_time": "2024-09-28T06:45:49.400324",
     "status": "completed"
    },
    "tags": []
   },
   "outputs": [
    {
     "data": {
      "text/plain": [
       "Under Graduate    817\n",
       "Post Graduate     129\n",
       "School             87\n",
       "Name: Level of Education, dtype: int64"
      ]
     },
     "execution_count": 18,
     "metadata": {},
     "output_type": "execute_result"
    }
   ],
   "source": [
    "# Checking value counts for 'Level of Education' column.\n",
    "\n",
    "harsh['Level of Education'].value_counts()"
   ]
  },
  {
   "cell_type": "code",
   "execution_count": 19,
   "id": "cf6b343d",
   "metadata": {
    "execution": {
     "iopub.execute_input": "2024-09-28T06:45:49.501990Z",
     "iopub.status.busy": "2024-09-28T06:45:49.500915Z",
     "iopub.status.idle": "2024-09-28T06:45:49.784871Z",
     "shell.execute_reply": "2024-09-28T06:45:49.783333Z"
    },
    "papermill": {
     "duration": 0.320787,
     "end_time": "2024-09-28T06:45:49.788423",
     "exception": false,
     "start_time": "2024-09-28T06:45:49.467636",
     "status": "completed"
    },
    "tags": []
   },
   "outputs": [
    {
     "data": {
      "image/png": "[encoded data removed]",
      "text/plain": [
       "<Figure size 500x500 with 1 Axes>"
      ]
     },
     "metadata": {},
     "output_type": "display_data"
    }
   ],
   "source": [
    "# plotting the Histplot\n",
    "\n",
    "plt.figure(figsize=(5,5))\n",
    "sns.histplot(harsh, x = harsh['Level of Education'], color = 'midnightblue')\n",
    "plt.title('Level of Education',weight='bold', size = 15)\n",
    "plt.xlabel('Level of Education',weight='bold')\n",
    "plt.ylabel('No. of students',weight='bold')\n",
    "plt.show()\n"
   ]
  },
  {
   "cell_type": "markdown",
   "id": "7fb8476d",
   "metadata": {
    "papermill": {
     "duration": 0.0232,
     "end_time": "2024-09-28T06:45:49.837744",
     "exception": false,
     "start_time": "2024-09-28T06:45:49.814544",
     "status": "completed"
    },
    "tags": []
   },
   "source": [
    "#### Insight:\n",
    "* under graduate students showed larger population in comparison with post graduate and school students... And also we see inthe graph, in schooling they don't give much important to eduction.."
   ]
  },
  {
   "cell_type": "markdown",
   "id": "f00ff77c",
   "metadata": {
    "papermill": {
     "duration": 0.022956,
     "end_time": "2024-09-28T06:45:49.883961",
     "exception": false,
     "start_time": "2024-09-28T06:45:49.861005",
     "status": "completed"
    },
    "tags": []
   },
   "source": [
    "### 4.How location impacts Education?"
   ]
  },
  {
   "cell_type": "code",
   "execution_count": 20,
   "id": "5fb1ae05",
   "metadata": {
    "execution": {
     "iopub.execute_input": "2024-09-28T06:45:49.934457Z",
     "iopub.status.busy": "2024-09-28T06:45:49.933080Z",
     "iopub.status.idle": "2024-09-28T06:45:49.945743Z",
     "shell.execute_reply": "2024-09-28T06:45:49.944226Z"
    },
    "papermill": {
     "duration": 0.041525,
     "end_time": "2024-09-28T06:45:49.948763",
     "exception": false,
     "start_time": "2024-09-28T06:45:49.907238",
     "status": "completed"
    },
    "tags": []
   },
   "outputs": [
    {
     "data": {
      "text/plain": [
       "Urban    679\n",
       "Rural    354\n",
       "Name: Home Location, dtype: int64"
      ]
     },
     "execution_count": 20,
     "metadata": {},
     "output_type": "execute_result"
    }
   ],
   "source": [
    "# Checking value counts for 'Home Location' column.\n",
    "\n",
    "harsh['Home Location'].value_counts()"
   ]
  },
  {
   "cell_type": "code",
   "execution_count": 21,
   "id": "5b25e9af",
   "metadata": {
    "execution": {
     "iopub.execute_input": "2024-09-28T06:45:50.000112Z",
     "iopub.status.busy": "2024-09-28T06:45:49.998910Z",
     "iopub.status.idle": "2024-09-28T06:45:50.161737Z",
     "shell.execute_reply": "2024-09-28T06:45:50.160308Z"
    },
    "papermill": {
     "duration": 0.193995,
     "end_time": "2024-09-28T06:45:50.166255",
     "exception": false,
     "start_time": "2024-09-28T06:45:49.972260",
     "status": "completed"
    },
    "tags": []
   },
   "outputs": [
    {
     "data": {
      "text/plain": [
       "Text(0.5, 1.0, 'Home Location')"
      ]
     },
     "execution_count": 21,
     "metadata": {},
     "output_type": "execute_result"
    },
    {
     "data": {
      "image/png": "[encoded data removed]",
      "text/plain": [
       "<Figure size 500x500 with 1 Axes>"
      ]
     },
     "metadata": {},
     "output_type": "display_data"
    }
   ],
   "source": [
    "# plotting the pia chart.\n",
    "\n",
    "plt.figure(figsize=(5,5)) \n",
    "harsh['Home Location'].value_counts().plot(kind = \"pie\" ,autopct='%1.1f%%')    # autopct display the percent value using string formatting\n",
    "plt.title('Home Location',size=20)"
   ]
  },
  {
   "cell_type": "markdown",
   "id": "2fcec3b6",
   "metadata": {
    "papermill": {
     "duration": 0.025562,
     "end_time": "2024-09-28T06:45:50.242152",
     "exception": false,
     "start_time": "2024-09-28T06:45:50.216590",
     "status": "completed"
    },
    "tags": []
   },
   "source": [
    "#### Insight: \n",
    "* Students in urban have a better adaptivity upto (65.7%) to education in comparison to students in rural..(34.3%)"
   ]
  },
  {
   "cell_type": "markdown",
   "id": "dcd152bf",
   "metadata": {
    "papermill": {
     "duration": 0.024328,
     "end_time": "2024-09-28T06:45:50.291346",
     "exception": false,
     "start_time": "2024-09-28T06:45:50.267018",
     "status": "completed"
    },
    "tags": []
   },
   "source": [
    "### 6.Average marks scored before pandemic in traditional classroom"
   ]
  },
  {
   "cell_type": "code",
   "execution_count": 22,
   "id": "f2fd4ac2",
   "metadata": {
    "execution": {
     "iopub.execute_input": "2024-09-28T06:45:50.343757Z",
     "iopub.status.busy": "2024-09-28T06:45:50.342522Z",
     "iopub.status.idle": "2024-09-28T06:45:50.749772Z",
     "shell.execute_reply": "2024-09-28T06:45:50.748492Z"
    },
    "papermill": {
     "duration": 0.437646,
     "end_time": "2024-09-28T06:45:50.753148",
     "exception": false,
     "start_time": "2024-09-28T06:45:50.315502",
     "status": "completed"
    },
    "tags": []
   },
   "outputs": [
    {
     "data": {
      "image/png": "[encoded data removed]",
      "text/plain": [
       "<Figure size 1800x800 with 1 Axes>"
      ]
     },
     "metadata": {},
     "output_type": "display_data"
    }
   ],
   "source": [
    "# plotting the count plot\n",
    "\n",
    "plt.figure(figsize=(18, 8))\n",
    "sns.set(style='darkgrid')    \n",
    "plot = sns.countplot(x='Average marks scored before pandemic in traditional classroom', data=harsh, palette= 'Dark2')  # palette are to control colors or patterns of a colume\n",
    "plt.title('Average marks scored before pandemic in traditional classroom', size= 20)\n",
    "plt.xlabel('Average marks scored before pandemic in traditional classroom', weight='bold')\n",
    "plt.ylabel('Number of students', weight='bold')\n",
    "plt.show()"
   ]
  },
  {
   "cell_type": "markdown",
   "id": "b2274086",
   "metadata": {
    "papermill": {
     "duration": 0.025466,
     "end_time": "2024-09-28T06:45:50.803789",
     "exception": false,
     "start_time": "2024-09-28T06:45:50.778323",
     "status": "completed"
    },
    "tags": []
   },
   "source": [
    "#### Insight: \n",
    "* we see in graph most off students score (81-90) markes before pandemic"
   ]
  },
  {
   "cell_type": "markdown",
   "id": "de3f8e2c",
   "metadata": {
    "papermill": {
     "duration": 0.024672,
     "end_time": "2024-09-28T06:45:50.853551",
     "exception": false,
     "start_time": "2024-09-28T06:45:50.828879",
     "status": "completed"
    },
    "tags": []
   },
   "source": [
    "### 7.How Education impact on sports?"
   ]
  },
  {
   "cell_type": "code",
   "execution_count": 23,
   "id": "8fb3fa1d",
   "metadata": {
    "execution": {
     "iopub.execute_input": "2024-09-28T06:45:50.907044Z",
     "iopub.status.busy": "2024-09-28T06:45:50.905365Z",
     "iopub.status.idle": "2024-09-28T06:45:50.916539Z",
     "shell.execute_reply": "2024-09-28T06:45:50.915314Z"
    },
    "papermill": {
     "duration": 0.040682,
     "end_time": "2024-09-28T06:45:50.919313",
     "exception": false,
     "start_time": "2024-09-28T06:45:50.878631",
     "status": "completed"
    },
    "tags": []
   },
   "outputs": [
    {
     "data": {
      "text/plain": [
       "No     663\n",
       "Yes    370\n",
       "Name: Are you involved in any sports?, dtype: int64"
      ]
     },
     "execution_count": 23,
     "metadata": {},
     "output_type": "execute_result"
    }
   ],
   "source": [
    "# Checking value counts for 'Are you involved in any sports?' column.\n",
    "\n",
    "harsh['Are you involved in any sports?'].value_counts()"
   ]
  },
  {
   "cell_type": "code",
   "execution_count": 24,
   "id": "b5b85c95",
   "metadata": {
    "execution": {
     "iopub.execute_input": "2024-09-28T06:45:50.973809Z",
     "iopub.status.busy": "2024-09-28T06:45:50.972622Z",
     "iopub.status.idle": "2024-09-28T06:45:51.158679Z",
     "shell.execute_reply": "2024-09-28T06:45:51.157285Z"
    },
    "papermill": {
     "duration": 0.21653,
     "end_time": "2024-09-28T06:45:51.161701",
     "exception": false,
     "start_time": "2024-09-28T06:45:50.945171",
     "status": "completed"
    },
    "tags": []
   },
   "outputs": [
    {
     "data": {
      "image/png": "[encoded data removed]",
      "text/plain": [
       "<Figure size 500x500 with 1 Axes>"
      ]
     },
     "metadata": {},
     "output_type": "display_data"
    }
   ],
   "source": [
    "# plotting the histplot \n",
    "\n",
    "plt.figure(figsize=(5,5))\n",
    "sns.histplot(harsh, x = harsh['Are you involved in any sports?'],color='g')\n",
    "plt.title('Are you involved in any sports?',weight='bold', size = 15)\n",
    "plt.xlabel('Are you involved in any sports?',weight='bold')\n",
    "plt.ylabel('No. of students',weight='bold')\n",
    "plt.show()"
   ]
  },
  {
   "cell_type": "markdown",
   "id": "8568a69f",
   "metadata": {
    "papermill": {
     "duration": 0.025687,
     "end_time": "2024-09-28T06:45:51.213802",
     "exception": false,
     "start_time": "2024-09-28T06:45:51.188115",
     "status": "completed"
    },
    "tags": []
   },
   "source": [
    "#### Insight:\n",
    "* we see in graph the majority of students not involved in any sports because of eduction,which impact on health.."
   ]
  },
  {
   "cell_type": "markdown",
   "id": "28dd860b",
   "metadata": {
    "papermill": {
     "duration": 0.025642,
     "end_time": "2024-09-28T06:45:51.265743",
     "exception": false,
     "start_time": "2024-09-28T06:45:51.240101",
     "status": "completed"
    },
    "tags": []
   },
   "source": [
    "### 8. The level of satisfaction in Education."
   ]
  },
  {
   "cell_type": "code",
   "execution_count": 25,
   "id": "fc5534a5",
   "metadata": {
    "execution": {
     "iopub.execute_input": "2024-09-28T06:45:51.320678Z",
     "iopub.status.busy": "2024-09-28T06:45:51.320215Z",
     "iopub.status.idle": "2024-09-28T06:45:51.330456Z",
     "shell.execute_reply": "2024-09-28T06:45:51.329152Z"
    },
    "papermill": {
     "duration": 0.040858,
     "end_time": "2024-09-28T06:45:51.333584",
     "exception": false,
     "start_time": "2024-09-28T06:45:51.292726",
     "status": "completed"
    },
    "tags": []
   },
   "outputs": [
    {
     "data": {
      "text/plain": [
       "Average    541\n",
       "Good       251\n",
       "Bad        241\n",
       "Name: Your level of satisfaction in Online Education, dtype: int64"
      ]
     },
     "execution_count": 25,
     "metadata": {},
     "output_type": "execute_result"
    }
   ],
   "source": [
    "# Checking value counts for 'Are you involved in any sports?' column.\n",
    "\n",
    "harsh['Your level of satisfaction in Online Education'].value_counts()"
   ]
  },
  {
   "cell_type": "code",
   "execution_count": 26,
   "id": "14f3808f",
   "metadata": {
    "execution": {
     "iopub.execute_input": "2024-09-28T06:45:51.389380Z",
     "iopub.status.busy": "2024-09-28T06:45:51.388936Z",
     "iopub.status.idle": "2024-09-28T06:45:51.537444Z",
     "shell.execute_reply": "2024-09-28T06:45:51.535849Z"
    },
    "papermill": {
     "duration": 0.180149,
     "end_time": "2024-09-28T06:45:51.540710",
     "exception": false,
     "start_time": "2024-09-28T06:45:51.360561",
     "status": "completed"
    },
    "tags": []
   },
   "outputs": [
    {
     "data": {
      "text/plain": [
       "Text(0.5, 1.0, 'Your level of satisfaction in  Education')"
      ]
     },
     "execution_count": 26,
     "metadata": {},
     "output_type": "execute_result"
    },
    {
     "data": {
      "image/png": "[encoded data removed]",
      "text/plain": [
       "<Figure size 500x500 with 1 Axes>"
      ]
     },
     "metadata": {},
     "output_type": "display_data"
    }
   ],
   "source": [
    "# plotting the pia chart.\n",
    "\n",
    "plt.figure(figsize=(5,5)) \n",
    "harsh['Your level of satisfaction in Online Education'].value_counts().plot(kind = \"pie\" ,autopct='%1.1f%%')    # autopct display the percent value using string formatting\n",
    "plt.title('Your level of satisfaction in  Education',size=20)"
   ]
  },
  {
   "cell_type": "markdown",
   "id": "47c8ccdc",
   "metadata": {
    "papermill": {
     "duration": 0.02708,
     "end_time": "2024-09-28T06:45:51.595323",
     "exception": false,
     "start_time": "2024-09-28T06:45:51.568243",
     "status": "completed"
    },
    "tags": []
   },
   "source": [
    "#### Insight: \n",
    "* Average number of  students were satisfied with the level of peer interaction that happened in learning uptoo 52.4%."
   ]
  },
  {
   "cell_type": "markdown",
   "id": "d34b87f0",
   "metadata": {
    "papermill": {
     "duration": 0.028878,
     "end_time": "2024-09-28T06:45:51.651802",
     "exception": false,
     "start_time": "2024-09-28T06:45:51.622924",
     "status": "completed"
    },
    "tags": []
   },
   "source": [
    "### 9. student's Interested in what?(practical,theory,both)"
   ]
  },
  {
   "cell_type": "code",
   "execution_count": 27,
   "id": "1aeec4b4",
   "metadata": {
    "execution": {
     "iopub.execute_input": "2024-09-28T06:45:51.709681Z",
     "iopub.status.busy": "2024-09-28T06:45:51.708592Z",
     "iopub.status.idle": "2024-09-28T06:45:51.884456Z",
     "shell.execute_reply": "2024-09-28T06:45:51.882570Z"
    },
    "papermill": {
     "duration": 0.208651,
     "end_time": "2024-09-28T06:45:51.887954",
     "exception": false,
     "start_time": "2024-09-28T06:45:51.679303",
     "status": "completed"
    },
    "tags": []
   },
   "outputs": [
    {
     "data": {
      "image/png": "[encoded data removed]",
      "text/plain": [
       "<Figure size 800x600 with 1 Axes>"
      ]
     },
     "metadata": {},
     "output_type": "display_data"
    }
   ],
   "source": [
    "# using the countplot we see \n",
    "\n",
    "plt.figure(figsize=(8,6))\n",
    "sns.countplot(x=harsh['Interested in?'])\n",
    "plt.title('Interested in?',weight='bold', size = 15)\n",
    "plt.xlabel('Interested in?',weight='bold')\n",
    "plt.ylabel('No. of students',weight='bold')\n",
    "plt.show()"
   ]
  },
  {
   "cell_type": "markdown",
   "id": "11c4ab0e",
   "metadata": {
    "papermill": {
     "duration": 0.027221,
     "end_time": "2024-09-28T06:45:51.943351",
     "exception": false,
     "start_time": "2024-09-28T06:45:51.916130",
     "status": "completed"
    },
    "tags": []
   },
   "source": [
    "#### Insight: \n",
    "* during learning students interested to do practical over a theory but also many students interested in both practical as well as theory.."
   ]
  },
  {
   "cell_type": "markdown",
   "id": "ef0d3fec",
   "metadata": {
    "papermill": {
     "duration": 0.02787,
     "end_time": "2024-09-28T06:45:51.998969",
     "exception": false,
     "start_time": "2024-09-28T06:45:51.971099",
     "status": "completed"
    },
    "tags": []
   },
   "source": [
    "### 10.Time spend on study"
   ]
  },
  {
   "cell_type": "code",
   "execution_count": 28,
   "id": "2372ec4a",
   "metadata": {
    "execution": {
     "iopub.execute_input": "2024-09-28T06:45:52.055976Z",
     "iopub.status.busy": "2024-09-28T06:45:52.055499Z",
     "iopub.status.idle": "2024-09-28T06:45:52.065481Z",
     "shell.execute_reply": "2024-09-28T06:45:52.064169Z"
    },
    "papermill": {
     "duration": 0.041847,
     "end_time": "2024-09-28T06:45:52.068394",
     "exception": false,
     "start_time": "2024-09-28T06:45:52.026547",
     "status": "completed"
    },
    "tags": []
   },
   "outputs": [
    {
     "data": {
      "text/plain": [
       "4     213\n",
       "3     181\n",
       "5     150\n",
       "2     144\n",
       "6     109\n",
       "1      73\n",
       "8      68\n",
       "7      58\n",
       "10     25\n",
       "9      12\n",
       "Name: Study time (Hours), dtype: int64"
      ]
     },
     "execution_count": 28,
     "metadata": {},
     "output_type": "execute_result"
    }
   ],
   "source": [
    "harsh['Study time (Hours)'].value_counts()"
   ]
  },
  {
   "cell_type": "code",
   "execution_count": 29,
   "id": "d9f30022",
   "metadata": {
    "execution": {
     "iopub.execute_input": "2024-09-28T06:45:52.127118Z",
     "iopub.status.busy": "2024-09-28T06:45:52.126625Z",
     "iopub.status.idle": "2024-09-28T06:45:52.513418Z",
     "shell.execute_reply": "2024-09-28T06:45:52.512108Z"
    },
    "papermill": {
     "duration": 0.419915,
     "end_time": "2024-09-28T06:45:52.516478",
     "exception": false,
     "start_time": "2024-09-28T06:45:52.096563",
     "status": "completed"
    },
    "tags": []
   },
   "outputs": [
    {
     "data": {
      "image/png": "[encoded data removed]",
      "text/plain": [
       "<Figure size 1800x800 with 1 Axes>"
      ]
     },
     "metadata": {},
     "output_type": "display_data"
    }
   ],
   "source": [
    "# plotting the count plot\n",
    "\n",
    "plt.figure(figsize=(18, 8))\n",
    "sns.set(style='darkgrid')    \n",
    "plot = sns.countplot(x='Study time (Hours)', data=harsh, palette= 'Dark2')  # palette are to control colors or patterns of a colume\n",
    "plt.title('Study time (Hours)', size= 15)\n",
    "plt.xlabel('Study time (Hours)', weight='bold')\n",
    "plt.ylabel('count', weight='bold')\n",
    "plt.show()"
   ]
  },
  {
   "cell_type": "markdown",
   "id": "4c6c78f8",
   "metadata": {
    "papermill": {
     "duration": 0.028296,
     "end_time": "2024-09-28T06:45:52.573229",
     "exception": false,
     "start_time": "2024-09-28T06:45:52.544933",
     "status": "completed"
    },
    "tags": []
   },
   "source": [
    "#### Insight:\n",
    "* Average time spent on studies is 3-4 hours.\n",
    "* only from dataset 25 student spend maximum time on study"
   ]
  },
  {
   "cell_type": "markdown",
   "id": "2171c77b",
   "metadata": {
    "papermill": {
     "duration": 0.027735,
     "end_time": "2024-09-28T06:45:52.629134",
     "exception": false,
     "start_time": "2024-09-28T06:45:52.601399",
     "status": "completed"
    },
    "tags": []
   },
   "source": [
    "### Conclusion:\n",
    "\n",
    "* Based on survey we see that because of the eduction the majority of students not involved in any sports which impacts on human health.\n",
    "* We also find out that students are not being able to give time to studies neither online classes nor self-study.\n",
    "\n"
   ]
  },
  {
   "cell_type": "code",
   "execution_count": null,
   "id": "925856fd",
   "metadata": {
    "papermill": {
     "duration": 0.027852,
     "end_time": "2024-09-28T06:45:52.685590",
     "exception": false,
     "start_time": "2024-09-28T06:45:52.657738",
     "status": "completed"
    },
    "tags": []
   },
   "outputs": [],
   "source": []
  },
  {
   "cell_type": "markdown",
   "id": "7bcf648e",
   "metadata": {
    "papermill": {
     "duration": 0.029662,
     "end_time": "2024-09-28T06:45:52.743877",
     "exception": false,
     "start_time": "2024-09-28T06:45:52.714215",
     "status": "completed"
    },
    "tags": []
   },
   "source": [
    "In my Dataset There are '1033' rows and '23' Columns"
   ]
  },
  {
   "cell_type": "markdown",
   "id": "361bd741",
   "metadata": {
    "papermill": {
     "duration": 0.028129,
     "end_time": "2024-09-28T06:45:52.800686",
     "exception": false,
     "start_time": "2024-09-28T06:45:52.772557",
     "status": "completed"
    },
    "tags": []
   },
   "source": []
  }
 ],
 "metadata": {
  "kaggle": {
   "accelerator": "none",
   "dataSources": [
    {
     "datasetId": 1829980,
     "sourceId": 2985954,
     "sourceType": "datasetVersion"
    }
   ],
   "dockerImageVersionId": 30458,
   "isGpuEnabled": false,
   "isInternetEnabled": true,
   "language": "python",
   "sourceType": "notebook"
  },
  "kernelspec": {
   "display_name": "Python 3",
   "language": "python",
   "name": "python3"
  },
  "language_info": {
   "codemirror_mode": {
    "name": "ipython",
    "version": 3
   },
   "file_extension": ".py",
   "mimetype": "text/x-python",
   "name": "python",
   "nbconvert_exporter": "python",
   "pygments_lexer": "ipython3",
   "version": "3.7.12"
  },
  "papermill": {
   "default_parameters": {},
   "duration": 21.962876,
   "end_time": "2024-09-28T06:45:53.653620",
   "environment_variables": {},
   "exception": null,
   "input_path": "__notebook__.ipynb",
   "output_path": "__notebook__.ipynb",
   "parameters": {},
   "start_time": "2024-09-28T06:45:31.690744",
   "version": "2.4.0"
  }
 },
 "nbformat": 4,
 "nbformat_minor": 5
}
